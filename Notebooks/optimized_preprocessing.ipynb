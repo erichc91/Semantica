{
 "cells": [
  {
   "cell_type": "markdown",
   "id": "4cf68510",
   "metadata": {},
   "source": [
    "# Optimized ConceptNet Preprocessing\n",
    "This notebook demonstrates the usage of the optimized ConceptNet preprocessor that handles large files efficiently."
   ]
  },
  {
   "cell_type": "code",
   "execution_count": 1,
   "id": "f2f3c042",
   "metadata": {},
   "outputs": [],
   "source": [
    "import sys\n",
    "sys.path.append('../Py Scripts')\n",
    "from conceptnet_processor_v3 import ConceptNetStreamProcessor, preprocess_conceptnet\n",
    "import pandas as pd\n",
    "import numpy as np\n",
    "import time"
   ]
  },
  {
   "cell_type": "markdown",
   "id": "5d0075df",
   "metadata": {},
   "source": [
    "## 1. Initial Preprocessing\n",
    "First, we'll preprocess the raw ConceptNet data. This only needs to be done once."
   ]
  },
  {
   "cell_type": "code",
   "execution_count": 2,
   "id": "f6ae8fa1",
   "metadata": {},
   "outputs": [
    {
     "name": "stdout",
     "output_type": "stream",
     "text": [
      "Processing en ConceptNet data...\n",
      "Saved processed en data to ..\\Data\\Processed\\conceptnet_en_processed.parquet\n",
      "Processing de ConceptNet data...\n",
      "Saved processed de data to ..\\Data\\Processed\\conceptnet_de_processed.parquet\n",
      "Preprocessing complete. Use load_processed_data() to load the results.\n"
     ]
    }
   ],
   "source": [
    "# Preprocess both English and German ConceptNet data\n",
    "# Comment this out if you've already run it once\n",
    "preprocess_conceptnet(\n",
    "    input_dir='../Data/Input',\n",
    "    output_dir='../Data/Processed',\n",
    "    languages=['en', 'de'],\n",
    "    min_weight=1.0\n",
    ")"
   ]
  },
  {
   "cell_type": "markdown",
   "id": "0f9634be",
   "metadata": {},
   "source": [
    "## 2. Loading Processed Data\n",
    "Now we can load samples of the processed data efficiently."
   ]
  },
  {
   "cell_type": "code",
   "execution_count": 3,
   "id": "45fcdb92",
   "metadata": {},
   "outputs": [],
   "source": [
    "# Initialize processor\n",
    "processor = ConceptNetStreamProcessor(\n",
    "    input_dir='../Data/Input',\n",
    "    output_dir='../Data/Processed'\n",
    ")"
   ]
  },
  {
   "cell_type": "code",
   "execution_count": 4,
   "id": "047911f7",
   "metadata": {},
   "outputs": [
    {
     "name": "stdout",
     "output_type": "stream",
     "text": [
      "Loaded 314339 English assertions in 0.13 seconds\n",
      "Memory usage: 24.23 MB\n"
     ]
    },
    {
     "data": {
      "application/vnd.microsoft.datawrangler.viewer.v0+json": {
       "columns": [
        {
         "name": "index",
         "rawType": "int64",
         "type": "integer"
        },
        {
         "name": "clean_start",
         "rawType": "string",
         "type": "string"
        },
        {
         "name": "clean_end",
         "rawType": "string",
         "type": "string"
        },
        {
         "name": "relation",
         "rawType": "string",
         "type": "string"
        },
        {
         "name": "weight",
         "rawType": "float64",
         "type": "float"
        },
        {
         "name": "source_lang",
         "rawType": "string",
         "type": "string"
        },
        {
         "name": "target_lang",
         "rawType": "string",
         "type": "string"
        }
       ],
       "conversionMethod": "pd.DataFrame",
       "ref": "6d67b7d3-9d24-4ac5-bd5e-086f343c4c85",
       "rows": [
        [
         "34536",
         "silverware",
         "kitchen",
         "AtLocation",
         "3.464",
         "en",
         "en"
        ],
        [
         "155482",
         "demonstrative_pronoun",
         "a",
         "DerivedFrom",
         "1.0",
         "en",
         "en"
        ],
        [
         "130980",
         "chairperson",
         "chair",
         "DerivedFrom",
         "1.0",
         "en",
         "en"
        ],
        [
         "17957",
         "cat",
         "fight",
         "AtLocation",
         "1.0",
         "en",
         "en"
        ],
        [
         "102641",
         "askt",
         "ask",
         "DerivedFrom",
         "1.0",
         "en",
         "en"
        ]
       ],
       "shape": {
        "columns": 6,
        "rows": 5
       }
      },
      "text/html": [
       "<div>\n",
       "<style scoped>\n",
       "    .dataframe tbody tr th:only-of-type {\n",
       "        vertical-align: middle;\n",
       "    }\n",
       "\n",
       "    .dataframe tbody tr th {\n",
       "        vertical-align: top;\n",
       "    }\n",
       "\n",
       "    .dataframe thead th {\n",
       "        text-align: right;\n",
       "    }\n",
       "</style>\n",
       "<table border=\"1\" class=\"dataframe\">\n",
       "  <thead>\n",
       "    <tr style=\"text-align: right;\">\n",
       "      <th></th>\n",
       "      <th>clean_start</th>\n",
       "      <th>clean_end</th>\n",
       "      <th>relation</th>\n",
       "      <th>weight</th>\n",
       "      <th>source_lang</th>\n",
       "      <th>target_lang</th>\n",
       "    </tr>\n",
       "  </thead>\n",
       "  <tbody>\n",
       "    <tr>\n",
       "      <th>34536</th>\n",
       "      <td>silverware</td>\n",
       "      <td>kitchen</td>\n",
       "      <td>AtLocation</td>\n",
       "      <td>3.464</td>\n",
       "      <td>en</td>\n",
       "      <td>en</td>\n",
       "    </tr>\n",
       "    <tr>\n",
       "      <th>155482</th>\n",
       "      <td>demonstrative_pronoun</td>\n",
       "      <td>a</td>\n",
       "      <td>DerivedFrom</td>\n",
       "      <td>1.000</td>\n",
       "      <td>en</td>\n",
       "      <td>en</td>\n",
       "    </tr>\n",
       "    <tr>\n",
       "      <th>130980</th>\n",
       "      <td>chairperson</td>\n",
       "      <td>chair</td>\n",
       "      <td>DerivedFrom</td>\n",
       "      <td>1.000</td>\n",
       "      <td>en</td>\n",
       "      <td>en</td>\n",
       "    </tr>\n",
       "    <tr>\n",
       "      <th>17957</th>\n",
       "      <td>cat</td>\n",
       "      <td>fight</td>\n",
       "      <td>AtLocation</td>\n",
       "      <td>1.000</td>\n",
       "      <td>en</td>\n",
       "      <td>en</td>\n",
       "    </tr>\n",
       "    <tr>\n",
       "      <th>102641</th>\n",
       "      <td>askt</td>\n",
       "      <td>ask</td>\n",
       "      <td>DerivedFrom</td>\n",
       "      <td>1.000</td>\n",
       "      <td>en</td>\n",
       "      <td>en</td>\n",
       "    </tr>\n",
       "  </tbody>\n",
       "</table>\n",
       "</div>"
      ],
      "text/plain": [
       "                  clean_start clean_end     relation  weight source_lang  \\\n",
       "34536              silverware   kitchen   AtLocation   3.464          en   \n",
       "155482  demonstrative_pronoun         a  DerivedFrom   1.000          en   \n",
       "130980            chairperson     chair  DerivedFrom   1.000          en   \n",
       "17957                     cat     fight   AtLocation   1.000          en   \n",
       "102641                   askt       ask  DerivedFrom   1.000          en   \n",
       "\n",
       "       target_lang  \n",
       "34536           en  \n",
       "155482          en  \n",
       "130980          en  \n",
       "17957           en  \n",
       "102641          en  "
      ]
     },
     "execution_count": 4,
     "metadata": {},
     "output_type": "execute_result"
    }
   ],
   "source": [
    "# Measure loading time for a 10% sample\n",
    "start_time = time.time()\n",
    "\n",
    "# Load a 10% sample of English data\n",
    "english_sample = processor.load_processed_data(\n",
    "    lang='en',\n",
    "    sample_size=0.1  # 10% sample\n",
    ")\n",
    "\n",
    "load_time = time.time() - start_time\n",
    "print(f\"Loaded {len(english_sample)} English assertions in {load_time:.2f} seconds\")\n",
    "print(f\"Memory usage: {english_sample.memory_usage().sum() / (1024*1024):.2f} MB\")\n",
    "\n",
    "# Display sample of the data\n",
    "english_sample.head()"
   ]
  },
  {
   "cell_type": "code",
   "execution_count": 5,
   "id": "b577cc5e",
   "metadata": {},
   "outputs": [
    {
     "name": "stdout",
     "output_type": "stream",
     "text": [
      "Loaded 107503 German assertions in 0.08 seconds\n",
      "Memory usage: 8.22 MB\n"
     ]
    },
    {
     "data": {
      "application/vnd.microsoft.datawrangler.viewer.v0+json": {
       "columns": [
        {
         "name": "index",
         "rawType": "int64",
         "type": "integer"
        },
        {
         "name": "clean_start",
         "rawType": "string",
         "type": "string"
        },
        {
         "name": "clean_end",
         "rawType": "string",
         "type": "string"
        },
        {
         "name": "relation",
         "rawType": "string",
         "type": "string"
        },
        {
         "name": "weight",
         "rawType": "float64",
         "type": "float"
        },
        {
         "name": "source_lang",
         "rawType": "string",
         "type": "string"
        },
        {
         "name": "target_lang",
         "rawType": "string",
         "type": "string"
        }
       ],
       "conversionMethod": "pd.DataFrame",
       "ref": "1201ab3a-5df2-43e5-80ff-a5a5afecb105",
       "rows": [
        [
         "199003",
         "n",
         "pflichtethik",
         "DistinctFrom",
         "1.0",
         "de",
         "de"
        ],
        [
         "1332",
         "v",
         "preisen",
         "Antonym",
         "1.0",
         "de",
         "de"
        ],
        [
         "43281",
         "fernsehen",
         "v",
         "DerivedFrom",
         "1.0",
         "de",
         "de"
        ],
        [
         "128079",
         "stierend",
         "v",
         "DerivedFrom",
         "1.0",
         "de",
         "de"
        ],
        [
         "183696",
         "n",
         "schlichtwohnung",
         "DistinctFrom",
         "1.0",
         "de",
         "de"
        ]
       ],
       "shape": {
        "columns": 6,
        "rows": 5
       }
      },
      "text/html": [
       "<div>\n",
       "<style scoped>\n",
       "    .dataframe tbody tr th:only-of-type {\n",
       "        vertical-align: middle;\n",
       "    }\n",
       "\n",
       "    .dataframe tbody tr th {\n",
       "        vertical-align: top;\n",
       "    }\n",
       "\n",
       "    .dataframe thead th {\n",
       "        text-align: right;\n",
       "    }\n",
       "</style>\n",
       "<table border=\"1\" class=\"dataframe\">\n",
       "  <thead>\n",
       "    <tr style=\"text-align: right;\">\n",
       "      <th></th>\n",
       "      <th>clean_start</th>\n",
       "      <th>clean_end</th>\n",
       "      <th>relation</th>\n",
       "      <th>weight</th>\n",
       "      <th>source_lang</th>\n",
       "      <th>target_lang</th>\n",
       "    </tr>\n",
       "  </thead>\n",
       "  <tbody>\n",
       "    <tr>\n",
       "      <th>199003</th>\n",
       "      <td>n</td>\n",
       "      <td>pflichtethik</td>\n",
       "      <td>DistinctFrom</td>\n",
       "      <td>1.0</td>\n",
       "      <td>de</td>\n",
       "      <td>de</td>\n",
       "    </tr>\n",
       "    <tr>\n",
       "      <th>1332</th>\n",
       "      <td>v</td>\n",
       "      <td>preisen</td>\n",
       "      <td>Antonym</td>\n",
       "      <td>1.0</td>\n",
       "      <td>de</td>\n",
       "      <td>de</td>\n",
       "    </tr>\n",
       "    <tr>\n",
       "      <th>43281</th>\n",
       "      <td>fernsehen</td>\n",
       "      <td>v</td>\n",
       "      <td>DerivedFrom</td>\n",
       "      <td>1.0</td>\n",
       "      <td>de</td>\n",
       "      <td>de</td>\n",
       "    </tr>\n",
       "    <tr>\n",
       "      <th>128079</th>\n",
       "      <td>stierend</td>\n",
       "      <td>v</td>\n",
       "      <td>DerivedFrom</td>\n",
       "      <td>1.0</td>\n",
       "      <td>de</td>\n",
       "      <td>de</td>\n",
       "    </tr>\n",
       "    <tr>\n",
       "      <th>183696</th>\n",
       "      <td>n</td>\n",
       "      <td>schlichtwohnung</td>\n",
       "      <td>DistinctFrom</td>\n",
       "      <td>1.0</td>\n",
       "      <td>de</td>\n",
       "      <td>de</td>\n",
       "    </tr>\n",
       "  </tbody>\n",
       "</table>\n",
       "</div>"
      ],
      "text/plain": [
       "       clean_start        clean_end      relation  weight source_lang  \\\n",
       "199003           n     pflichtethik  DistinctFrom     1.0          de   \n",
       "1332             v          preisen       Antonym     1.0          de   \n",
       "43281    fernsehen                v   DerivedFrom     1.0          de   \n",
       "128079    stierend                v   DerivedFrom     1.0          de   \n",
       "183696           n  schlichtwohnung  DistinctFrom     1.0          de   \n",
       "\n",
       "       target_lang  \n",
       "199003          de  \n",
       "1332            de  \n",
       "43281           de  \n",
       "128079          de  \n",
       "183696          de  "
      ]
     },
     "execution_count": 5,
     "metadata": {},
     "output_type": "execute_result"
    }
   ],
   "source": [
    "# Load a 10% sample of German data\n",
    "start_time = time.time()\n",
    "\n",
    "german_sample = processor.load_processed_data(\n",
    "    lang='de',\n",
    "    sample_size=0.1  # 10% sample\n",
    ")\n",
    "\n",
    "load_time = time.time() - start_time\n",
    "print(f\"Loaded {len(german_sample)} German assertions in {load_time:.2f} seconds\")\n",
    "print(f\"Memory usage: {german_sample.memory_usage().sum() / (1024*1024):.2f} MB\")\n",
    "\n",
    "# Display sample of the data\n",
    "german_sample.head()"
   ]
  },
  {
   "cell_type": "markdown",
   "id": "c9273dea",
   "metadata": {},
   "source": [
    "## 3. Flexible Data Loading\n",
    "Let's demonstrate different sampling options."
   ]
  },
  {
   "cell_type": "code",
   "execution_count": 6,
   "id": "ec72ace1",
   "metadata": {},
   "outputs": [
    {
     "name": "stdout",
     "output_type": "stream",
     "text": [
      "Dask loading failed with error: 'DataFrame' object has no attribute 'compute'\n",
      "Falling back to pandas for data loading\n",
      "Loaded top 10000 English assertions\n"
     ]
    },
    {
     "data": {
      "application/vnd.microsoft.datawrangler.viewer.v0+json": {
       "columns": [
        {
         "name": "index",
         "rawType": "int64",
         "type": "integer"
        },
        {
         "name": "clean_start",
         "rawType": "object",
         "type": "string"
        },
        {
         "name": "clean_end",
         "rawType": "object",
         "type": "string"
        },
        {
         "name": "relation",
         "rawType": "object",
         "type": "string"
        },
        {
         "name": "weight",
         "rawType": "float64",
         "type": "float"
        },
        {
         "name": "source_lang",
         "rawType": "object",
         "type": "string"
        },
        {
         "name": "target_lang",
         "rawType": "object",
         "type": "string"
        }
       ],
       "conversionMethod": "pd.DataFrame",
       "ref": "3de2a6f3-9ff5-490b-bc79-7fe775ea118d",
       "rows": [
        [
         "0",
         "n",
         "1",
         "Antonym",
         "1.0",
         "en",
         "en"
        ],
        [
         "1",
         "n",
         "24_hour_clock",
         "Antonym",
         "1.0",
         "en",
         "en"
        ],
        [
         "2",
         "n",
         "12_hour_clock",
         "Antonym",
         "1.0",
         "en",
         "en"
        ],
        [
         "3",
         "n",
         "3",
         "Antonym",
         "1.0",
         "en",
         "en"
        ],
        [
         "4",
         "n",
         "d.c",
         "Antonym",
         "1.0",
         "en",
         "en"
        ]
       ],
       "shape": {
        "columns": 6,
        "rows": 5
       }
      },
      "text/html": [
       "<div>\n",
       "<style scoped>\n",
       "    .dataframe tbody tr th:only-of-type {\n",
       "        vertical-align: middle;\n",
       "    }\n",
       "\n",
       "    .dataframe tbody tr th {\n",
       "        vertical-align: top;\n",
       "    }\n",
       "\n",
       "    .dataframe thead th {\n",
       "        text-align: right;\n",
       "    }\n",
       "</style>\n",
       "<table border=\"1\" class=\"dataframe\">\n",
       "  <thead>\n",
       "    <tr style=\"text-align: right;\">\n",
       "      <th></th>\n",
       "      <th>clean_start</th>\n",
       "      <th>clean_end</th>\n",
       "      <th>relation</th>\n",
       "      <th>weight</th>\n",
       "      <th>source_lang</th>\n",
       "      <th>target_lang</th>\n",
       "    </tr>\n",
       "  </thead>\n",
       "  <tbody>\n",
       "    <tr>\n",
       "      <th>0</th>\n",
       "      <td>n</td>\n",
       "      <td>1</td>\n",
       "      <td>Antonym</td>\n",
       "      <td>1.0</td>\n",
       "      <td>en</td>\n",
       "      <td>en</td>\n",
       "    </tr>\n",
       "    <tr>\n",
       "      <th>1</th>\n",
       "      <td>n</td>\n",
       "      <td>24_hour_clock</td>\n",
       "      <td>Antonym</td>\n",
       "      <td>1.0</td>\n",
       "      <td>en</td>\n",
       "      <td>en</td>\n",
       "    </tr>\n",
       "    <tr>\n",
       "      <th>2</th>\n",
       "      <td>n</td>\n",
       "      <td>12_hour_clock</td>\n",
       "      <td>Antonym</td>\n",
       "      <td>1.0</td>\n",
       "      <td>en</td>\n",
       "      <td>en</td>\n",
       "    </tr>\n",
       "    <tr>\n",
       "      <th>3</th>\n",
       "      <td>n</td>\n",
       "      <td>3</td>\n",
       "      <td>Antonym</td>\n",
       "      <td>1.0</td>\n",
       "      <td>en</td>\n",
       "      <td>en</td>\n",
       "    </tr>\n",
       "    <tr>\n",
       "      <th>4</th>\n",
       "      <td>n</td>\n",
       "      <td>d.c</td>\n",
       "      <td>Antonym</td>\n",
       "      <td>1.0</td>\n",
       "      <td>en</td>\n",
       "      <td>en</td>\n",
       "    </tr>\n",
       "  </tbody>\n",
       "</table>\n",
       "</div>"
      ],
      "text/plain": [
       "  clean_start      clean_end relation  weight source_lang target_lang\n",
       "0           n              1  Antonym     1.0          en          en\n",
       "1           n  24_hour_clock  Antonym     1.0          en          en\n",
       "2           n  12_hour_clock  Antonym     1.0          en          en\n",
       "3           n              3  Antonym     1.0          en          en\n",
       "4           n            d.c  Antonym     1.0          en          en"
      ]
     },
     "execution_count": 6,
     "metadata": {},
     "output_type": "execute_result"
    }
   ],
   "source": [
    "# Load with a specific row limit (regardless of total size)\n",
    "english_top_10k = processor.load_processed_data(\n",
    "    lang='en',\n",
    "    max_rows=10000\n",
    ")\n",
    "\n",
    "print(f\"Loaded top {len(english_top_10k)} English assertions\")\n",
    "english_top_10k.head()"
   ]
  },
  {
   "cell_type": "code",
   "execution_count": 7,
   "id": "15b66ac2",
   "metadata": {},
   "outputs": [
    {
     "name": "stdout",
     "output_type": "stream",
     "text": [
      "Loaded 31434 English assertions (1% sample)\n"
     ]
    },
    {
     "data": {
      "application/vnd.microsoft.datawrangler.viewer.v0+json": {
       "columns": [
        {
         "name": "index",
         "rawType": "int64",
         "type": "integer"
        },
        {
         "name": "clean_start",
         "rawType": "string",
         "type": "string"
        },
        {
         "name": "clean_end",
         "rawType": "string",
         "type": "string"
        },
        {
         "name": "relation",
         "rawType": "string",
         "type": "string"
        },
        {
         "name": "weight",
         "rawType": "float64",
         "type": "float"
        },
        {
         "name": "source_lang",
         "rawType": "string",
         "type": "string"
        },
        {
         "name": "target_lang",
         "rawType": "string",
         "type": "string"
        }
       ],
       "conversionMethod": "pd.DataFrame",
       "ref": "e53f8e2e-b7a1-4f37-ba1d-c3c2cd3a1473",
       "rows": [
        [
         "34536",
         "silverware",
         "kitchen",
         "AtLocation",
         "3.464",
         "en",
         "en"
        ],
        [
         "155482",
         "demonstrative_pronoun",
         "a",
         "DerivedFrom",
         "1.0",
         "en",
         "en"
        ],
        [
         "130980",
         "chairperson",
         "chair",
         "DerivedFrom",
         "1.0",
         "en",
         "en"
        ],
        [
         "17957",
         "cat",
         "fight",
         "AtLocation",
         "1.0",
         "en",
         "en"
        ],
        [
         "102641",
         "askt",
         "ask",
         "DerivedFrom",
         "1.0",
         "en",
         "en"
        ]
       ],
       "shape": {
        "columns": 6,
        "rows": 5
       }
      },
      "text/html": [
       "<div>\n",
       "<style scoped>\n",
       "    .dataframe tbody tr th:only-of-type {\n",
       "        vertical-align: middle;\n",
       "    }\n",
       "\n",
       "    .dataframe tbody tr th {\n",
       "        vertical-align: top;\n",
       "    }\n",
       "\n",
       "    .dataframe thead th {\n",
       "        text-align: right;\n",
       "    }\n",
       "</style>\n",
       "<table border=\"1\" class=\"dataframe\">\n",
       "  <thead>\n",
       "    <tr style=\"text-align: right;\">\n",
       "      <th></th>\n",
       "      <th>clean_start</th>\n",
       "      <th>clean_end</th>\n",
       "      <th>relation</th>\n",
       "      <th>weight</th>\n",
       "      <th>source_lang</th>\n",
       "      <th>target_lang</th>\n",
       "    </tr>\n",
       "  </thead>\n",
       "  <tbody>\n",
       "    <tr>\n",
       "      <th>34536</th>\n",
       "      <td>silverware</td>\n",
       "      <td>kitchen</td>\n",
       "      <td>AtLocation</td>\n",
       "      <td>3.464</td>\n",
       "      <td>en</td>\n",
       "      <td>en</td>\n",
       "    </tr>\n",
       "    <tr>\n",
       "      <th>155482</th>\n",
       "      <td>demonstrative_pronoun</td>\n",
       "      <td>a</td>\n",
       "      <td>DerivedFrom</td>\n",
       "      <td>1.000</td>\n",
       "      <td>en</td>\n",
       "      <td>en</td>\n",
       "    </tr>\n",
       "    <tr>\n",
       "      <th>130980</th>\n",
       "      <td>chairperson</td>\n",
       "      <td>chair</td>\n",
       "      <td>DerivedFrom</td>\n",
       "      <td>1.000</td>\n",
       "      <td>en</td>\n",
       "      <td>en</td>\n",
       "    </tr>\n",
       "    <tr>\n",
       "      <th>17957</th>\n",
       "      <td>cat</td>\n",
       "      <td>fight</td>\n",
       "      <td>AtLocation</td>\n",
       "      <td>1.000</td>\n",
       "      <td>en</td>\n",
       "      <td>en</td>\n",
       "    </tr>\n",
       "    <tr>\n",
       "      <th>102641</th>\n",
       "      <td>askt</td>\n",
       "      <td>ask</td>\n",
       "      <td>DerivedFrom</td>\n",
       "      <td>1.000</td>\n",
       "      <td>en</td>\n",
       "      <td>en</td>\n",
       "    </tr>\n",
       "  </tbody>\n",
       "</table>\n",
       "</div>"
      ],
      "text/plain": [
       "                  clean_start clean_end     relation  weight source_lang  \\\n",
       "34536              silverware   kitchen   AtLocation   3.464          en   \n",
       "155482  demonstrative_pronoun         a  DerivedFrom   1.000          en   \n",
       "130980            chairperson     chair  DerivedFrom   1.000          en   \n",
       "17957                     cat     fight   AtLocation   1.000          en   \n",
       "102641                   askt       ask  DerivedFrom   1.000          en   \n",
       "\n",
       "       target_lang  \n",
       "34536           en  \n",
       "155482          en  \n",
       "130980          en  \n",
       "17957           en  \n",
       "102641          en  "
      ]
     },
     "execution_count": 7,
     "metadata": {},
     "output_type": "execute_result"
    }
   ],
   "source": [
    "# Load a very small sample for quick experimentation\n",
    "english_mini = processor.load_processed_data(\n",
    "    lang='en',\n",
    "    sample_size=0.01  # 1% sample\n",
    ")\n",
    "\n",
    "print(f\"Loaded {len(english_mini)} English assertions (1% sample)\")\n",
    "english_mini.head()"
   ]
  },
  {
   "cell_type": "markdown",
   "id": "df847ca1",
   "metadata": {},
   "source": [
    "## 4. Data Statistics\n",
    "Let's analyze the processed data."
   ]
  },
  {
   "cell_type": "code",
   "execution_count": 8,
   "id": "e1f869b0",
   "metadata": {},
   "outputs": [
    {
     "name": "stdout",
     "output_type": "stream",
     "text": [
      "\n",
      "=== English Dataset Analysis ===\n",
      "Total assertions: 314339\n",
      "Unique source concepts: 48192\n",
      "Unique target concepts: 113043\n",
      "Unique relation types: 34\n",
      "Weight range: 1.00 - 12.34\n",
      "\n",
      "Top relation types:\n",
      "relation\n",
      "RelatedTo      155389\n",
      "FormOf          37944\n",
      "DerivedFrom     32436\n",
      "HasContext      23304\n",
      "IsA             19812\n",
      "Name: count, dtype: int64[pyarrow]\n",
      "\n",
      "Top source concepts:\n",
      "clean_start\n",
      "n       161273\n",
      "a        27978\n",
      "v        24373\n",
      "en_1      5752\n",
      "wn        3709\n",
      "Name: count, dtype: int64[pyarrow]\n",
      "\n",
      "Top target concepts:\n",
      "clean_end\n",
      "n           14535\n",
      "wn           3824\n",
      "plant        2042\n",
      "artifact     1856\n",
      "a            1694\n",
      "Name: count, dtype: int64[pyarrow]\n",
      "\n",
      "=== German Dataset Analysis ===\n",
      "Total assertions: 107503\n",
      "Unique source concepts: 43891\n",
      "Unique target concepts: 35445\n",
      "Unique relation types: 9\n",
      "Weight range: 1.00 - 2.83\n",
      "\n",
      "Top relation types:\n",
      "relation\n",
      "FormOf         30982\n",
      "RelatedTo      25407\n",
      "IsA            18621\n",
      "DerivedFrom    15525\n",
      "Synonym        11871\n",
      "Name: count, dtype: int64[pyarrow]\n",
      "\n",
      "Top source concepts:\n",
      "clean_start\n",
      "n       39052\n",
      "v       11066\n",
      "a       10437\n",
      "r         674\n",
      "en_1       38\n",
      "Name: count, dtype: int64[pyarrow]\n",
      "\n",
      "Top target concepts:\n",
      "clean_end\n",
      "n             30874\n",
      "v              5510\n",
      "a              2182\n",
      "stadt           443\n",
      "linguistik      314\n",
      "Name: count, dtype: int64[pyarrow]\n"
     ]
    }
   ],
   "source": [
    "def analyze_dataset(df, name):\n",
    "    \"\"\"Print statistics about a ConceptNet dataset\"\"\"\n",
    "    print(f\"\\n=== {name} Dataset Analysis ===\")\n",
    "    print(f\"Total assertions: {len(df)}\")\n",
    "    print(f\"Unique source concepts: {df['clean_start'].nunique()}\")\n",
    "    print(f\"Unique target concepts: {df['clean_end'].nunique()}\")\n",
    "    print(f\"Unique relation types: {df['relation'].nunique()}\")\n",
    "    print(f\"Weight range: {df['weight'].min():.2f} - {df['weight'].max():.2f}\")\n",
    "    \n",
    "    # Top relations\n",
    "    print(\"\\nTop relation types:\")\n",
    "    print(df['relation'].value_counts().head(5))\n",
    "    \n",
    "    # Top concepts\n",
    "    print(\"\\nTop source concepts:\")\n",
    "    print(df['clean_start'].value_counts().head(5))\n",
    "    \n",
    "    print(\"\\nTop target concepts:\")\n",
    "    print(df['clean_end'].value_counts().head(5))\n",
    "\n",
    "# Analyze English sample\n",
    "analyze_dataset(english_sample, \"English\")\n",
    "\n",
    "# Analyze German sample\n",
    "analyze_dataset(german_sample, \"German\")"
   ]
  },
  {
   "cell_type": "code",
   "execution_count": null,
   "id": "9c6c951c",
   "metadata": {},
   "outputs": [],
   "source": []
  }
 ],
 "metadata": {
  "kernelspec": {
   "display_name": ".venv",
   "language": "python",
   "name": "python3"
  },
  "language_info": {
   "codemirror_mode": {
    "name": "ipython",
    "version": 3
   },
   "file_extension": ".py",
   "mimetype": "text/x-python",
   "name": "python",
   "nbconvert_exporter": "python",
   "pygments_lexer": "ipython3",
   "version": "3.13.0"
  }
 },
 "nbformat": 4,
 "nbformat_minor": 5
}
